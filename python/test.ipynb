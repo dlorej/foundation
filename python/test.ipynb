{
 "cells": [
  {
   "cell_type": "code",
   "execution_count": 6,
   "metadata": {},
   "outputs": [],
   "source": [
    "import geopandas as gpd\n",
    "import pandas as pd\n",
    "from shapely import wkt\n",
    "import matplotlib.pyplot as plt"
   ]
  },
  {
   "cell_type": "code",
   "execution_count": 4,
   "metadata": {},
   "outputs": [],
   "source": [
    "lat_min, lat_max = 1.337833, 1.356194\n",
    "lon_min, lon_max = 103.674861, 103.698806\n",
    "\n",
    "df = pd.read_csv(\"C:\\\\Users\\\\jerol\\\\Downloads\\\\31d_buildings.csv\")\n",
    "\n",
    "filtered_df = df[(df['latitude'] >= lat_min) & (df['latitude'] <= lat_max) &\n",
    "                 (df['longitude'] >= lon_min) & (df['longitude'] <= lon_max)]\n",
    "\n",
    "filtered_df.to_csv('filtered_coordinates.csv', index=False)"
   ]
  },
  {
   "cell_type": "code",
   "execution_count": null,
   "metadata": {},
   "outputs": [],
   "source": [
    "\n",
    "file_path = 'filtered_coordinates.csv'  # Replace with the actual file path\n",
    "df = pd.read_csv(file_path)\n",
    "\n",
    "df['geometry'] = df['geometry'].apply(wkt.loads)  # Convert WKT to geometries\n",
    "\n",
    "# Create a GeoDataFrame\n",
    "gdf = gpd.GeoDataFrame(df, geometry='geometry')\n",
    "\n",
    "# Plot the polygons\n",
    "gdf.plot(figsize=(10, 10), color='blue', edgecolor='black', alpha=0.6)\n",
    "\n",
    "# Set the title\n",
    "plt.title('Building Geometries within Specified Boundaries')\n",
    "\n",
    "# Show the plot\n",
    "plt.show()"
   ]
  }
 ],
 "metadata": {
  "kernelspec": {
   "display_name": "Python 3",
   "language": "python",
   "name": "python3"
  },
  "language_info": {
   "codemirror_mode": {
    "name": "ipython",
    "version": 3
   },
   "file_extension": ".py",
   "mimetype": "text/x-python",
   "name": "python",
   "nbconvert_exporter": "python",
   "pygments_lexer": "ipython3",
   "version": "3.12.5"
  }
 },
 "nbformat": 4,
 "nbformat_minor": 2
}
